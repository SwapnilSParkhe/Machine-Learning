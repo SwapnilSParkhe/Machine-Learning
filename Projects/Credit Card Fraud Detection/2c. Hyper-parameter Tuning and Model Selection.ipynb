{
 "cells": [
  {
   "cell_type": "markdown",
   "metadata": {},
   "source": [
    "# Credit Card Fraud Detection using Anomaly Detection | Part 2c (Tuning)"
   ]
  },
  {
   "cell_type": "markdown",
   "metadata": {},
   "source": [
    "**Problem**: Predict whether a credit card transaction is fraudulent or not based on its details. Extract the patterns that hint towards fraud by modeling the past transactions such that all frauds are detected and false positives are minimised.\n",
    "\n",
    "**Evaluation**: Recall, PR-AUC, f1, Precision @t will be used for fine-tuning and evaluation using available labels\n",
    "\n",
    "**Potential Solution Framework**: Since we have enough labeled data, we are using the fully-supervised anomaly detection setting (learning data structure from labels) using below two approaches. Note: One this common though, we would be trying to learn the underlying \"normal\" distribution & draw threshold boundary to weed out anomalies\n",
    "\n",
    "**-----b. \"End-to-end fully-supervised\"-----**\n",
    "    - pass whatever (normal or anomolous or both) that available training-fold labeled data is\n",
    "    - then use those models to check and validate on whatever that remaining available valid-fold data is\n",
    "    - Pros/Cons:\n",
    "      i. We could use gridsearchcv directly\n",
    "      ii. OCSVM would not perform well on such mixed data**\n",
    "\n",
    "**Existing intuitions on algorithms (based on performance on 2D datasets)** -\n",
    "Source (https://scikit-learn.org/stable/auto_examples/plot_anomaly_comparison.html#sphx-glr-auto-examples-plot-anomaly-comparison-py):\n",
    "- IF and LOF are good when we have multimodal data. LOF is better when modes have different desities (local aspect of LOF)\n",
    "- OCSVM is sensitive to outliers and doesn't generally perform well for OD (but good for ND when training data is uncontaminated), but depending on values of hyperparamters it could still give useful results\n",
    "- EllipticEnvelope assumes Gaussian distribution and thus learns ellipse. Not good for multimodal data but robust to outliers\n",
    "\n",
    "**Useful material and references**\n",
    "- https://escholarship.org/uc/item/1f03f6hb#main\n",
    "- https://www.hindawi.com/journals/complexity/2019/2686378/\n",
    "- https://imada.sdu.dk/~zimek/InvitedTalks/TUVienna-2016-05-18-outlier-evaluation.pdf\n",
    "- https://www.gta.ufrj.br/~alvarenga/files/CPE826/Ahmed2016-Survey.pdf\n",
    " "
   ]
  },
  {
   "cell_type": "markdown",
   "metadata": {},
   "source": [
    "## 1. Importing Libraries"
   ]
  },
  {
   "cell_type": "code",
   "execution_count": 2,
   "metadata": {},
   "outputs": [],
   "source": [
    "#Importing necessary data science libraries\n",
    "import numpy as np\n",
    "import pandas as pd; pd.set_option('display.max_columns', None)\n",
    "import matplotlib.pyplot as plt; \n",
    "%matplotlib inline\n",
    "import seaborn as sns\n",
    "import warnings; warnings.filterwarnings(\"ignore\")\n",
    "import pickle\n",
    "import scipy.stats as stats\n",
    "\n",
    "#Importing data processing and prep libraries\n",
    "from sklearn.preprocessing import StandardScaler, RobustScaler   #RobustScaler robust to outliers\n",
    "from sklearn.model_selection import train_test_split, StratifiedKFold\n",
    "from sklearn.model_selection import GridSearchCV, RandomizedSearchCV  #for hyperparameter tuning\n",
    "\n",
    "#Importing machine learning algo libraries\n",
    "from sklearn.ensemble import IsolationForest\n",
    "from sklearn.neighbors import LocalOutlierFactor\n",
    "from sklearn.svm import OneClassSVM\n",
    "\n",
    "#Importing evaluation focussed libraries\n",
    "from sklearn.metrics import classification_report, confusion_matrix, precision_recall_curve\n",
    "from sklearn.metrics import f1_score, recall_score, average_precision_score\n",
    "\n",
    "#Other useful libraries\n",
    "#!pip install missingno   \n",
    "import missingno as missviz   #Custom library for missing value inspections\n",
    "from sklearn.manifold import TSNE   #For visualising high dimensional data"
   ]
  },
  {
   "cell_type": "markdown",
   "metadata": {},
   "source": [
    "## 2. Getting relevant data"
   ]
  },
  {
   "cell_type": "code",
   "execution_count": 3,
   "metadata": {},
   "outputs": [
    {
     "name": "stdout",
     "output_type": "stream",
     "text": [
      "Details of inliers data - shape of predictor matrix is (227452, 30) and # ones in target series is 0\n",
      "Details of inliers_outliers data - shape of predictor matrix is (57355, 30) and # ones in target series is 492\n"
     ]
    }
   ],
   "source": [
    "#Importing\n",
    "with open(\"ADS_a.pkl\", \"rb\") as f:\n",
    "    X_in, y_in, X_in_out, y_in_out, X_cols, y_cols = pickle.load(f)\n",
    "    \n",
    "#Basic details\n",
    "print(\"Details of inliers data - shape of predictor matrix is {I} and # ones in target series is {J}\".format(I=X_in.shape, J=sum(y_in)))\n",
    "print(\"Details of inliers_outliers data - shape of predictor matrix is {I} and # ones in target series is {J}\".format(I=X_in_out.shape, J=sum(y_in_out)))"
   ]
  },
  {
   "cell_type": "markdown",
   "metadata": {},
   "source": [
    "## 3. Drafting model\n",
    "\n",
    "**3.1 Building basline model (default settings)**"
   ]
  },
  {
   "cell_type": "code",
   "execution_count": 124,
   "metadata": {},
   "outputs": [],
   "source": [
    "# Creating a dictionary of models (anomaly detectors in \"novel\" detection mode)\n",
    "seed=123\n",
    "models = {\n",
    "    \"IF\": IsolationForest(random_state=seed),\n",
    "    \"LOF\": LocalOutlierFactor(novelty=True),\n",
    "    \"OCSVM\": OneClassSVM(random_state=seed)}"
   ]
  },
  {
   "cell_type": "code",
   "execution_count": 146,
   "metadata": {},
   "outputs": [],
   "source": [
    "#Creating a class of anomaly detection model\n",
    "class Basic_Anomaly_Detectors:\n",
    "    \"\"\"\n",
    "    Accepts models' dictionary that should run on data\n",
    "    \"\"\"\n",
    "    def __init__(self, models):\n",
    "        self.models = models\n",
    "       \n",
    "    def provide_data(self, X_in, X_in_out, y_in, y_in_out): \n",
    "        #Training will have inliers only; Test will have a separate subset of inliers & outliers  \n",
    "        self.X_train = X_in\n",
    "        self.y_train = y_in\n",
    "        self.X_test = X_in_out\n",
    "        self.y_test = y_in_out\n",
    "        \n",
    "        #Print basic details\n",
    "        print(\"Details of train data - shape of predictor matrix is {I} and # ones in target series is {J}\".format(I=self.X_train.shape, J=sum(self.y_train)))\n",
    "        print(\"Details of test data - shape of predictor matrix is {I} and # ones in target series is {J}\".format(I=self.X_test.shape, J=sum(self.y_test)))\n",
    "    \n",
    "    def fit_score_predict(self):\n",
    "        y_scores_dict={}\n",
    "        y_pred_dict={}\n",
    "        results=[] \n",
    "        for model_name, model in self.models.items():\n",
    "            print(\"------------------Fitting {M} algorithm---------------\".format(M=model_name))\n",
    "            \n",
    "            %time model.fit(self.X_train)\n",
    "            y_scores = model.decision_function(self.X_test)\n",
    "            y_pred = model.predict(self.X_test)\n",
    "                 \n",
    "            #The algos predicts {1,-1} for {normal, anomalous} case, whereas original y has {0,1}\n",
    "            y_pred[y_pred==1]=0\n",
    "            y_pred[y_pred==-1]=1\n",
    "\n",
    "            #Evaluation (using Recall, F1, PR-AUC)\n",
    "            Recall = recall_score(self.y_test,y_pred)\n",
    "            F1= f1_score(self.y_test,y_pred)\n",
    "            PR_AUC = average_precision_score(self.y_test,y_scores)\n",
    "\n",
    "            #Collating outputs\n",
    "            y_scores_dict[model_name]=y_scores\n",
    "            y_pred_dict[model_name]=y_pred\n",
    "            results.append([model_name, Recall, F1, PR_AUC])\n",
    "        \n",
    "        self.y_scores_dict=y_scores_dict\n",
    "        self.y_pred_dict=y_pred_dict\n",
    "        self.results_df = pd.DataFrame(results, columns=[\"model_name\", \"Recall\", \"F1\", \"PR_AUC\"])\n",
    "        \n",
    "    def evaluate_plot(self):\n",
    "        for model_name, model in self.models.items():\n",
    "            print(\"------------------Evaluating/Plotting {M} algorithm------------------\".format(M=model_name))\n",
    "            results_df_model = self.results_df[self.results_df[\"model_name\"]==model_name]\n",
    "\n",
    "            #Printing results\n",
    "            print('Classifiation report on test data:', '\\n', classification_report(self.y_test,self.y_pred_dict[model_name]))  \n",
    "            print('Recall: {}'.format(results_df_model[\"Recall\"].values))\n",
    "            print('F1: {}'.format(results_df_model[\"F1\"].values))\n",
    "            print(\"PR-AUC: {}\".format(results_df_model[\"PR_AUC\"].values))    \n",
    "\n",
    "            #Plotting results\n",
    "            cm=confusion_matrix(self.y_test,self.y_pred_dict[model_name])\n",
    "            P, R, _ = precision_recall_curve(self.y_test,self.y_scores_dict[model_name])\n",
    "\n",
    "            fig, axs = plt.subplots(1,2, figsize=(16,5))\n",
    "            axs=axs.flatten()\n",
    "\n",
    "            sns.heatmap(cm, annot=True, ax=axs[0], fmt=\".1f\")\n",
    "            axs[0].set_xlabel(\"Predicted\"); axs[0].xaxis.set_ticklabels(['normal', 'anomaly'])\n",
    "            axs[0].set_ylabel(\"Actual\"); axs[0].yaxis.set_ticklabels(['normal', 'anomaly'])\n",
    "            axs[0].set_title(\"Confusion Matrix\")\n",
    "\n",
    "            axs[1].plot(P,R)\n",
    "            axs[1].set_xlabel('Recall')\n",
    "            axs[1].set_ylabel('Precision')\n",
    "            axs[1].set_title(\"PR-curve\")\n",
    "\n",
    "            plt.show()\n",
    "            fig.tight_layout()"
   ]
  },
  {
   "cell_type": "code",
   "execution_count": 152,
   "metadata": {},
   "outputs": [
    {
     "name": "stdout",
     "output_type": "stream",
     "text": [
      "Details of train data - shape of predictor matrix is (227452, 30) and # ones in target series is 0\n",
      "Details of test data - shape of predictor matrix is (57355, 30) and # ones in target series is 492\n",
      "------------------Fitting IF algorithm---------------\n",
      "CPU times: user 10.1 s, sys: 3.55 s, total: 13.6 s\n",
      "Wall time: 14 s\n",
      "------------------Fitting LOF algorithm---------------\n",
      "CPU times: user 14min 35s, sys: 12.7 s, total: 14min 47s\n",
      "Wall time: 15min 5s\n",
      "------------------Fitting OCSVM algorithm---------------\n",
      "CPU times: user 1h 52s, sys: 2min 13s, total: 1h 3min 6s\n",
      "Wall time: 1h 4min 49s\n",
      "------------------Evaluating/Plotting IF algorithm------------------\n",
      "Classifiation report on test data: \n",
      "               precision    recall  f1-score   support\n",
      "\n",
      "           0       1.00      0.90      0.95     56863\n",
      "           1       0.07      0.88      0.13       492\n",
      "\n",
      "   micro avg       0.90      0.90      0.90     57355\n",
      "   macro avg       0.53      0.89      0.54     57355\n",
      "weighted avg       0.99      0.90      0.94     57355\n",
      "\n",
      "Recall: [0.88211382]\n",
      "F1: [0.1314554]\n",
      "PR-AUC: [0.00436398]\n"
     ]
    },
    {
     "data": {
      "image/png": "[encoded data removed]",
      "text/plain": [
       "<Figure size 1152x360 with 3 Axes>"
      ]
     },
     "metadata": {
      "needs_background": "light"
     },
     "output_type": "display_data"
    },
    {
     "name": "stdout",
     "output_type": "stream",
     "text": [
      "------------------Evaluating/Plotting LOF algorithm------------------\n",
      "Classifiation report on test data: \n",
      "               precision    recall  f1-score   support\n",
      "\n",
      "           0       0.99      0.90      0.94     56863\n",
      "           1       0.03      0.32      0.05       492\n",
      "\n",
      "   micro avg       0.90      0.90      0.90     57355\n",
      "   macro avg       0.51      0.61      0.50     57355\n",
      "weighted avg       0.99      0.90      0.94     57355\n",
      "\n",
      "Recall: [0.32317073]\n",
      "F1: [0.05019732]\n",
      "PR-AUC: [0.00545146]\n"
     ]
    },
    {
     "data": {
      "image/png": "[encoded data removed]",
      "text/plain": [
       "<Figure size 1152x360 with 3 Axes>"
      ]
     },
     "metadata": {
      "needs_background": "light"
     },
     "output_type": "display_data"
    },
    {
     "name": "stdout",
     "output_type": "stream",
     "text": [
      "------------------Evaluating/Plotting OCSVM algorithm------------------\n",
      "Classifiation report on test data: \n",
      "               precision    recall  f1-score   support\n",
      "\n",
      "           0       1.00      0.50      0.67     56863\n",
      "           1       0.02      0.97      0.03       492\n",
      "\n",
      "   micro avg       0.50      0.50      0.50     57355\n",
      "   macro avg       0.51      0.73      0.35     57355\n",
      "weighted avg       0.99      0.50      0.66     57355\n",
      "\n",
      "Recall: [0.96747967]\n",
      "F1: [0.03236004]\n",
      "PR-AUC: [0.00435116]\n"
     ]
    },
    {
     "data": {
      "image/png": "[encoded data removed]",
      "text/plain": [
       "<Figure size 1152x360 with 3 Axes>"
      ]
     },
     "metadata": {
      "needs_background": "light"
     },
     "output_type": "display_data"
    }
   ],
   "source": [
    "#Instantiating and running our \"Basic_Anomaly_Detectors\"\n",
    "BAD=Basic_Anomaly_Detectors(models)\n",
    "BAD.provide_data(X_in, X_in_out, y_in, y_in_out)\n",
    "BAD.fit_score_predict()\n",
    "BAD.evaluate_plot()"
   ]
  },
  {
   "cell_type": "code",
   "execution_count": 150,
   "metadata": {},
   "outputs": [
    {
     "data": {
      "text/html": [
       "<div>\n",
       "<style scoped>\n",
       "    .dataframe tbody tr th:only-of-type {\n",
       "        vertical-align: middle;\n",
       "    }\n",
       "\n",
       "    .dataframe tbody tr th {\n",
       "        vertical-align: top;\n",
       "    }\n",
       "\n",
       "    .dataframe thead th {\n",
       "        text-align: right;\n",
       "    }\n",
       "</style>\n",
       "<table border=\"1\" class=\"dataframe\">\n",
       "  <thead>\n",
       "    <tr style=\"text-align: right;\">\n",
       "      <th></th>\n",
       "      <th>model_name</th>\n",
       "      <th>Recall</th>\n",
       "      <th>F1</th>\n",
       "      <th>PR_AUC</th>\n",
       "    </tr>\n",
       "  </thead>\n",
       "  <tbody>\n",
       "    <tr>\n",
       "      <th>0</th>\n",
       "      <td>IF</td>\n",
       "      <td>0.96</td>\n",
       "      <td>0.134454</td>\n",
       "      <td>0.004571</td>\n",
       "    </tr>\n",
       "    <tr>\n",
       "      <th>1</th>\n",
       "      <td>LOF</td>\n",
       "      <td>0.92</td>\n",
       "      <td>0.133721</td>\n",
       "      <td>0.004593</td>\n",
       "    </tr>\n",
       "    <tr>\n",
       "      <th>2</th>\n",
       "      <td>OCSVM</td>\n",
       "      <td>1.00</td>\n",
       "      <td>0.033784</td>\n",
       "      <td>0.004583</td>\n",
       "    </tr>\n",
       "  </tbody>\n",
       "</table>\n",
       "</div>"
      ],
      "text/plain": [
       "  model_name  Recall        F1    PR_AUC\n",
       "0         IF    0.96  0.134454  0.004571\n",
       "1        LOF    0.92  0.133721  0.004593\n",
       "2      OCSVM    1.00  0.033784  0.004583"
      ]
     },
     "execution_count": 150,
     "metadata": {},
     "output_type": "execute_result"
    }
   ],
   "source": [
    "#Result summary of \"Basic_Anomaly_Detectors\"\n",
    "BAD.results_df"
   ]
  },
  {
   "cell_type": "markdown",
   "metadata": {},
   "source": [
    "## 4. Hyperparameter tuning and model selection"
   ]
  },
  {
   "cell_type": "markdown",
   "metadata": {},
   "source": [
    "**4.1 Splitting data into \"small\" and \"big\" parts; and combining \"small\" data into one X, y**\n",
    "- Note: We'll train and tune using the whole data in Google colab with GPUs"
   ]
  },
  {
   "cell_type": "code",
   "execution_count": 7,
   "metadata": {},
   "outputs": [],
   "source": [
    "#Splitting inlier and (inlier+outlier) into \"small\" and \"big\" parts to expedite training and tuning\n",
    "seed=123\n",
    "small_frac=0.05\n",
    "X_in_big, X_in_small, y_in_big, y_in_small = train_test_split(X_in, y_in, test_size=small_frac, random_state=seed)\n",
    "X_in_out_big, X_in_out_small, y_in_out_big, y_in_out_small = train_test_split(X_in_out, y_in_out, test_size=small_frac, stratify=np.array(y_in_out), random_state=seed)"
   ]
  },
  {
   "cell_type": "code",
   "execution_count": null,
   "metadata": {},
   "outputs": [],
   "source": [
    "#Making one combined data of inliers + (inliers+outliers) to be passed to next steps\n",
    "X_comb_small = np.concatenate((X_in_small, X_in_out_small), axis=0)\n",
    "y_comb_small = np.concatenate((y_in_small, y_in_out_small), axis=0)"
   ]
  },
  {
   "cell_type": "markdown",
   "metadata": {},
   "source": [
    "**4.2 Creating custom CV-folds class to control how training & tuning happens**\n",
    "- We need to pass CV-folds to the hyperparamter tuning algos (RSCV, GSCV) such that: \n",
    "    1. training happens only on inliers\n",
    "    2. validation happens on (inliers + outliers) "
   ]
  },
  {
   "cell_type": "code",
   "execution_count": null,
   "metadata": {},
   "outputs": [],
   "source": [
    "#Creating custom k-folds class of this combined data for tuning further such that:\n",
    "class InlierOutlier_CustomCVFolds:\n",
    "    def __init__(self, n_splits, random_state):\n",
    "        self.n_splits=n_splits\n",
    "        self.random_state = random_state\n",
    "        \n",
    "    def custom_split(self, X, y, groups=None):\n",
    "        #Splitting X, y in KFold manner s.t. we have inliers for training and (inliers + all outliers) for validation\n",
    "        for io_t_id, io_v_id in StratifiedKFold(n_splits=self.n_splits, random_state=self.random_state).split(X, y):\n",
    "            y_df = pd.DataFrame(y, columns=[y_cols])\n",
    "\n",
    "            #Segregating training_ids into inlier_training_ids and outlier_training_ids \n",
    "            temp=pd.DataFrame(y_comb_small_df.ix[io_t_id,\"Class\"]==1)\n",
    "            i_t_id = np.array(temp.index[temp[\"Class\"]==False])\n",
    "            o_t_id = np.array(temp.index[temp[\"Class\"]==True])\n",
    "\n",
    "            #Manipulating such that t_id is just inliers, whereas v_id is inliers + outliers\n",
    "            t_id = i_t_id\n",
    "            v_id = np.concatenate((o_t_id, io_v_id))\n",
    "\n",
    "            yield t_id, v_id \n",
    "            \n",
    "    def get_n_splits(self, X, y, groups=None):\n",
    "        return self.n_splits"
   ]
  },
  {
   "cell_type": "markdown",
   "metadata": {},
   "source": [
    "**4.3 Creating dictionary of \"intialized\" models and a custom scoring function for CVs**\n",
    "- Note: that we need this custom scoring function for CV steps, since output of anomaly detection model prediction is {-1,1}, so in order to use f1_score appropriately, we'll need to make this transformation in predicted values of y, else it behaves weirdly"
   ]
  },
  {
   "cell_type": "code",
   "execution_count": null,
   "metadata": {},
   "outputs": [],
   "source": [
    "#Creating a dictionary of \"initialized\" defualt models\n",
    "models={\n",
    "    \"IF\": IsolationForest(random_state=seed),\n",
    "    \"LOF\": LocalOutlierFactor(novelty=True),\n",
    "    \"OCSVM\": OneClassSVM(random_state=seed)}\n",
    "\n",
    "#Creating a custom scoring function (which takes in 3 arguments - model, X, y under RSCV & GSCV)\n",
    "def my_f1_score(model, X, y):\n",
    "    y_pred=model.predict(X)\n",
    "    return f1_score(y, np.where(y_pred==1,0,1))"
   ]
  },
  {
   "cell_type": "markdown",
   "metadata": {},
   "source": [
    "**4.4 Training and tuning models**\n",
    "    1. Using RandomizedSearchCV first (which is also fast) to determine an interesting hyperparameter space\n",
    "    2. Then, we'll use GridSearchCV later to narrow down to the specifics (space where performance seems good)"
   ]
  },
  {
   "cell_type": "markdown",
   "metadata": {},
   "source": [
    "**4.4.1 RandomizedSearchCV (and validation curve)**"
   ]
  },
  {
   "cell_type": "code",
   "execution_count": null,
   "metadata": {},
   "outputs": [],
   "source": [
    "#Creating a dictionary of models' hyperparameters for RSCV\n",
    "model_hp_dist_rscv={\n",
    "    \"IF\": {\"contamination\": [10**np.random.uniform(-1, -4) for i in np.arange(1,100)], \"max_samples\": [10**-1*np.random.uniform(1,10) for i in np.arange(1,100)], \"n_estimators\": [np.random.randint(2, 1000) for i in np.arange(1,100)]},\n",
    "    \"LOF\": {\"contamination\": [10**np.random.uniform(-1, -4) for i in np.arange(1,100)], \"n_neighbors\": [np.random.randint(2, 1000) for i in np.arange(1,100)]},\n",
    "    \"OCSVM\": {\"nu\": [10**np.random.uniform(-1, -4) for i in np.arange(1,100)] , \"kernel\": [\"linear\", \"rbf\", \"poly\"], \"gamma\": [10**np.random.uniform(-1, -4) for i in np.arange(1,100)]}}\n",
    "\n",
    "results_rscv=[]\n",
    "for model_name in models.keys():\n",
    "    print(\"-----Running RandomizedSearchCV for {M}-----\".format(M=model_name))\n",
    "    model=models[model_name]\n",
    "    hp=model_hp_dist_rscv[model_name]\n",
    "    cv = InlierOutlier_CustomCVFolds(3, random_state=seed).custom_split(X_comb_small, y_comb_small)\n",
    "    RSCV=RandomizedSearchCV(model, hp, cv=cv, n_iter=30, random_state=seed, scoring=my_f1_score, n_jobs=-1, verbose=10)\n",
    "    %time RSCV.fit(X_comb_small, y_comb_small)\n",
    "    results_rscv.append([model_name, RSCV.best_params_, RSCV.best_score_, RSCV.cv_results_])\n",
    "    \n",
    "results_rscv_df=pd.DataFrame(results_rscv, columns=[\"model_name\", \"best_hp\", \"best_score\", \"CV_results\"])"
   ]
  },
  {
   "cell_type": "code",
   "execution_count": null,
   "metadata": {},
   "outputs": [],
   "source": [
    "#Plotting validation curves:\n",
    "results_model_df_dict={}\n",
    "print(\"----------------------\\n Validation Curves \\n----------------------\", )\n",
    "for i, model_name in enumerate(models):\n",
    "    print(\"<\", model_name, \">\")\n",
    "    print(\"-Best score\", \"\\n\",results_rscv_df[results_rscv_df[\"model_name\"]==model_name][\"best_score\"][i])\n",
    "    print(\"-Best hps\", \"\\n\",results_rscv_df[results_rscv_df[\"model_name\"]==model_name][\"best_hp\"][i])\n",
    "    results_model_df = pd.DataFrame(results_rscv_df[results_rscv_df[\"model_name\"]==model_name]['CV_results'].values[0])    \n",
    "    hp_cols_model = [col for col in results_model_df.columns if (\"param_\" in col)]\n",
    "    \n",
    "    fig, axs = plt.subplots(1,3, figsize=(16,4))\n",
    "    axs=axs.flatten()\n",
    "    for i, hp_col in enumerate(hp_cols_model):\n",
    "        results_model_df.sort_values(hp_col).groupby(hp_col)[\"mean_train_score\"].mean().plot(ax=axs[i], color='red')\n",
    "        results_model_df.sort_values(hp_col).groupby(hp_col)[\"mean_test_score\"].mean().plot(ax=axs[i], color='green')\n",
    "        \n",
    "    plt.show()"
   ]
  },
  {
   "cell_type": "markdown",
   "metadata": {},
   "source": [
    "**4.4.2 GridSearchCV**"
   ]
  },
  {
   "cell_type": "code",
   "execution_count": 151,
   "metadata": {},
   "outputs": [],
   "source": [
    "model_hp_grid_gscv={\n",
    "    \"IF\": {\"contamination\": [0.0001, 0.001, 0.0025, 0.005, 0.01], \"max_samples\": list(range(10,300,60)), \"n_estimators\": [10,50,100,200,500]},\n",
    "    \"LOF\": {\"contamination\": [0.0001, 0.001, 0.0025, 0.005, 0.01], \"n_neighbors\": [5,10,20,50,100]},\n",
    "    \"OCSVM\": {\"nu\": [0.0001, 0.001, 0.0025, 0.005, 0.01], \"kernel\": [\"linear\", \"rbf\", \"poly\"], \"gamma\": np.power(10.0, range(-3,2))}}"
   ]
  },
  {
   "cell_type": "code",
   "execution_count": null,
   "metadata": {},
   "outputs": [],
   "source": []
  },
  {
   "cell_type": "code",
   "execution_count": null,
   "metadata": {},
   "outputs": [],
   "source": []
  },
  {
   "cell_type": "code",
   "execution_count": null,
   "metadata": {},
   "outputs": [],
   "source": []
  },
  {
   "cell_type": "code",
   "execution_count": null,
   "metadata": {},
   "outputs": [],
   "source": []
  },
  {
   "cell_type": "code",
   "execution_count": null,
   "metadata": {},
   "outputs": [],
   "source": []
  },
  {
   "cell_type": "code",
   "execution_count": null,
   "metadata": {},
   "outputs": [],
   "source": []
  },
  {
   "cell_type": "code",
   "execution_count": null,
   "metadata": {},
   "outputs": [],
   "source": []
  },
  {
   "cell_type": "code",
   "execution_count": null,
   "metadata": {},
   "outputs": [],
   "source": []
  },
  {
   "cell_type": "code",
   "execution_count": null,
   "metadata": {},
   "outputs": [],
   "source": []
  },
  {
   "cell_type": "code",
   "execution_count": null,
   "metadata": {},
   "outputs": [],
   "source": []
  },
  {
   "cell_type": "code",
   "execution_count": null,
   "metadata": {},
   "outputs": [],
   "source": []
  }
 ],
 "metadata": {
  "kernelspec": {
   "display_name": "Python 3",
   "language": "python",
   "name": "python3"
  },
  "language_info": {
   "codemirror_mode": {
    "name": "ipython",
    "version": 3
   },
   "file_extension": ".py",
   "mimetype": "text/x-python",
   "name": "python",
   "nbconvert_exporter": "python",
   "pygments_lexer": "ipython3",
   "version": "3.7.1"
  }
 },
 "nbformat": 4,
 "nbformat_minor": 2
}
